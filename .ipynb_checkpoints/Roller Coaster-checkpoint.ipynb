{
 "cells": [
  {
   "cell_type": "markdown",
   "metadata": {},
   "source": [
    "# Roller Coaster"
   ]
  },
  {
   "cell_type": "markdown",
   "metadata": {},
   "source": [
    "#### Overview"
   ]
  },
  {
   "cell_type": "markdown",
   "metadata": {},
   "source": [
    "This project is slightly different than others you have encountered thus far. Instead of a step-by-step tutorial, this project contains a series of open-ended requirements which describe the project you'll be building. There are many possible ways to correctly fulfill these requirements, and you should expect to use the internet, Codecademy, and other resources when you encounter a problem that you cannot easily solve."
   ]
  },
  {
   "cell_type": "markdown",
   "metadata": {},
   "source": [
    "#### Project Goals"
   ]
  },
  {
   "cell_type": "markdown",
   "metadata": {},
   "source": [
    "You will work to create several data visualizations that will give you insight into the world of roller coasters."
   ]
  },
  {
   "cell_type": "markdown",
   "metadata": {},
   "source": [
    "## Prerequisites"
   ]
  },
  {
   "cell_type": "markdown",
   "metadata": {},
   "source": [
    "In order to complete this project, you should have completed the first two lessons in the [Data Analysis with Pandas Course](https://www.codecademy.com/learn/data-processing-pandas) and the first two lessons in the [Data Visualization in Python course](https://www.codecademy.com/learn/data-visualization-python). This content is also covered in the [Data Scientist Career Path](https://www.codecademy.com/learn/paths/data-science/)."
   ]
  },
  {
   "cell_type": "markdown",
   "metadata": {},
   "source": [
    "## Project Requirements"
   ]
  },
  {
   "cell_type": "markdown",
   "metadata": {},
   "source": [
    "1. Roller coasters are thrilling amusement park rides designed to make you squeal and scream! They take you up high, drop you to the ground quickly, and sometimes even spin you upside down before returning to a stop. Today you will be taking control back from the roller coasters and visualizing data covering international roller coaster rankings and roller coaster statistics.\n",
    "\n",
    "   Roller coasters are often split into two main categories based on their construction material: **wood** or **steel**. Rankings for the best wood and steel roller coasters from the 2013 to 2018 [Golden Ticket Awards](http://goldenticketawards.com) are provded in `'Golden_Ticket_Award_Winners_Wood.csv'` and `'Golden_Ticket_Award_Winners_Steel.csv'`, respectively. Load each csv into a DataFrame and inspect it to gain familiarity with the data."
   ]
  },
  {
   "cell_type": "code",
   "execution_count": 1,
   "metadata": {},
   "outputs": [],
   "source": [
    "# 1 \n",
    "# Import necessary libraries\n",
    "import pandas as pd\n",
    "import matplotlib.pyplot as plt\n",
    "\n",
    "# load rankings data\n",
    "wood_award = pd.read_csv(\"Golden_Ticket_Award_Winners_Wood.csv\")\n",
    "\n",
    "# load rankings data\n",
    "steel_award = pd.read_csv(\"Golden_Ticket_Award_Winners_Steel.csv\")\n"
   ]
  },
  {
   "cell_type": "code",
   "execution_count": 2,
   "metadata": {},
   "outputs": [
    {
     "data": {
      "text/html": [
       "<div>\n",
       "<style scoped>\n",
       "    .dataframe tbody tr th:only-of-type {\n",
       "        vertical-align: middle;\n",
       "    }\n",
       "\n",
       "    .dataframe tbody tr th {\n",
       "        vertical-align: top;\n",
       "    }\n",
       "\n",
       "    .dataframe thead th {\n",
       "        text-align: right;\n",
       "    }\n",
       "</style>\n",
       "<table border=\"1\" class=\"dataframe\">\n",
       "  <thead>\n",
       "    <tr style=\"text-align: right;\">\n",
       "      <th></th>\n",
       "      <th>Rank</th>\n",
       "      <th>Name</th>\n",
       "      <th>Park</th>\n",
       "      <th>Location</th>\n",
       "      <th>Supplier</th>\n",
       "      <th>Year Built</th>\n",
       "      <th>Points</th>\n",
       "      <th>Year of Rank</th>\n",
       "    </tr>\n",
       "  </thead>\n",
       "  <tbody>\n",
       "    <tr>\n",
       "      <th>0</th>\n",
       "      <td>1</td>\n",
       "      <td>Boulder Dash</td>\n",
       "      <td>Lake Compounce</td>\n",
       "      <td>Bristol, Conn.</td>\n",
       "      <td>CCI</td>\n",
       "      <td>2000</td>\n",
       "      <td>1333</td>\n",
       "      <td>2013</td>\n",
       "    </tr>\n",
       "    <tr>\n",
       "      <th>1</th>\n",
       "      <td>2</td>\n",
       "      <td>El Toro</td>\n",
       "      <td>Six Flags Great Adventure</td>\n",
       "      <td>Jackson, N.J.</td>\n",
       "      <td>Intamin</td>\n",
       "      <td>2006</td>\n",
       "      <td>1302</td>\n",
       "      <td>2013</td>\n",
       "    </tr>\n",
       "    <tr>\n",
       "      <th>2</th>\n",
       "      <td>3</td>\n",
       "      <td>Phoenix</td>\n",
       "      <td>Knoebels Amusement Resort</td>\n",
       "      <td>Elysburg, Pa.</td>\n",
       "      <td>Dinn/PTC-Schmeck</td>\n",
       "      <td>1985</td>\n",
       "      <td>1088</td>\n",
       "      <td>2013</td>\n",
       "    </tr>\n",
       "    <tr>\n",
       "      <th>3</th>\n",
       "      <td>4</td>\n",
       "      <td>The Voyage</td>\n",
       "      <td>Holiday World</td>\n",
       "      <td>Santa Claus, Ind.</td>\n",
       "      <td>Gravity Group</td>\n",
       "      <td>2006</td>\n",
       "      <td>1086</td>\n",
       "      <td>2013</td>\n",
       "    </tr>\n",
       "    <tr>\n",
       "      <th>4</th>\n",
       "      <td>5</td>\n",
       "      <td>Thunderhead</td>\n",
       "      <td>Dollywood</td>\n",
       "      <td>Pigeon Forge, Tenn.</td>\n",
       "      <td>GCII</td>\n",
       "      <td>2004</td>\n",
       "      <td>923</td>\n",
       "      <td>2013</td>\n",
       "    </tr>\n",
       "  </tbody>\n",
       "</table>\n",
       "</div>"
      ],
      "text/plain": [
       "   Rank          Name                       Park             Location  \\\n",
       "0     1  Boulder Dash             Lake Compounce       Bristol, Conn.   \n",
       "1     2       El Toro  Six Flags Great Adventure        Jackson, N.J.   \n",
       "2     3       Phoenix  Knoebels Amusement Resort        Elysburg, Pa.   \n",
       "3     4    The Voyage              Holiday World    Santa Claus, Ind.   \n",
       "4     5   Thunderhead                  Dollywood  Pigeon Forge, Tenn.   \n",
       "\n",
       "           Supplier  Year Built  Points  Year of Rank  \n",
       "0               CCI        2000    1333          2013  \n",
       "1           Intamin        2006    1302          2013  \n",
       "2  Dinn/PTC-Schmeck        1985    1088          2013  \n",
       "3     Gravity Group        2006    1086          2013  \n",
       "4              GCII        2004     923          2013  "
      ]
     },
     "execution_count": 2,
     "metadata": {},
     "output_type": "execute_result"
    }
   ],
   "source": [
    "wood_award.head()"
   ]
  },
  {
   "cell_type": "code",
   "execution_count": 3,
   "metadata": {},
   "outputs": [
    {
     "data": {
      "text/html": [
       "<div>\n",
       "<style scoped>\n",
       "    .dataframe tbody tr th:only-of-type {\n",
       "        vertical-align: middle;\n",
       "    }\n",
       "\n",
       "    .dataframe tbody tr th {\n",
       "        vertical-align: top;\n",
       "    }\n",
       "\n",
       "    .dataframe thead th {\n",
       "        text-align: right;\n",
       "    }\n",
       "</style>\n",
       "<table border=\"1\" class=\"dataframe\">\n",
       "  <thead>\n",
       "    <tr style=\"text-align: right;\">\n",
       "      <th></th>\n",
       "      <th>Rank</th>\n",
       "      <th>Name</th>\n",
       "      <th>Park</th>\n",
       "      <th>Location</th>\n",
       "      <th>Supplier</th>\n",
       "      <th>Year Built</th>\n",
       "      <th>Points</th>\n",
       "      <th>Year of Rank</th>\n",
       "    </tr>\n",
       "  </thead>\n",
       "  <tbody>\n",
       "    <tr>\n",
       "      <th>0</th>\n",
       "      <td>1</td>\n",
       "      <td>Millennium Force</td>\n",
       "      <td>Cedar Point</td>\n",
       "      <td>Sandusky, Ohio</td>\n",
       "      <td>Intamin</td>\n",
       "      <td>2000</td>\n",
       "      <td>1204</td>\n",
       "      <td>2013</td>\n",
       "    </tr>\n",
       "    <tr>\n",
       "      <th>1</th>\n",
       "      <td>2</td>\n",
       "      <td>Bizarro</td>\n",
       "      <td>Six Flags New England</td>\n",
       "      <td>Agawam, Mass.</td>\n",
       "      <td>Intamin</td>\n",
       "      <td>2000</td>\n",
       "      <td>1011</td>\n",
       "      <td>2013</td>\n",
       "    </tr>\n",
       "    <tr>\n",
       "      <th>2</th>\n",
       "      <td>3</td>\n",
       "      <td>Expedition GeForce</td>\n",
       "      <td>Holiday Park</td>\n",
       "      <td>Hassloch, Germany</td>\n",
       "      <td>Intamin</td>\n",
       "      <td>2001</td>\n",
       "      <td>598</td>\n",
       "      <td>2013</td>\n",
       "    </tr>\n",
       "    <tr>\n",
       "      <th>3</th>\n",
       "      <td>4</td>\n",
       "      <td>Nitro</td>\n",
       "      <td>Six Flags Great Adventure</td>\n",
       "      <td>Jackson, N.J.</td>\n",
       "      <td>B&amp;M</td>\n",
       "      <td>2001</td>\n",
       "      <td>596</td>\n",
       "      <td>2013</td>\n",
       "    </tr>\n",
       "    <tr>\n",
       "      <th>4</th>\n",
       "      <td>5</td>\n",
       "      <td>Apollo’s Chariot</td>\n",
       "      <td>Busch Gardens Williamsburg</td>\n",
       "      <td>Williamsburg, Va.</td>\n",
       "      <td>B&amp;M</td>\n",
       "      <td>1999</td>\n",
       "      <td>542</td>\n",
       "      <td>2013</td>\n",
       "    </tr>\n",
       "  </tbody>\n",
       "</table>\n",
       "</div>"
      ],
      "text/plain": [
       "   Rank                Name                        Park           Location  \\\n",
       "0     1    Millennium Force                 Cedar Point     Sandusky, Ohio   \n",
       "1     2             Bizarro       Six Flags New England      Agawam, Mass.   \n",
       "2     3  Expedition GeForce                Holiday Park  Hassloch, Germany   \n",
       "3     4               Nitro   Six Flags Great Adventure      Jackson, N.J.   \n",
       "4     5    Apollo’s Chariot  Busch Gardens Williamsburg  Williamsburg, Va.   \n",
       "\n",
       "  Supplier  Year Built  Points  Year of Rank  \n",
       "0  Intamin        2000    1204          2013  \n",
       "1  Intamin        2000    1011          2013  \n",
       "2  Intamin        2001     598          2013  \n",
       "3      B&M        2001     596          2013  \n",
       "4      B&M        1999     542          2013  "
      ]
     },
     "execution_count": 3,
     "metadata": {},
     "output_type": "execute_result"
    }
   ],
   "source": [
    "steel_award.head()"
   ]
  },
  {
   "cell_type": "markdown",
   "metadata": {},
   "source": [
    "2. Write a function that will plot the ranking of a given roller coaster over time as a line. Your function should take a roller coaster's name and a ranking DataFrame as arguments. Make sure to include informative labels that describe your visualization.\n",
    "\n",
    "   Call your function with `\"El Toro\"` as the roller coaster name and the wood ranking DataFrame. What issue do you notice? Update your function with an additional argument to alleviate the problem, and retest your function."
   ]
  },
  {
   "cell_type": "markdown",
   "metadata": {},
   "source": [
    "3. Write a function that will plot the ranking of two given roller coasters over time as lines. Your function should take both roller coasters' names and a ranking DataFrame as arguments. Make sure to include informative labels that describe your visualization.\n",
    "\n",
    "   Call your function with `\"El Toro\"` as one roller coaster name, `\"Boulder Dash\"` as the other roller coaster name, and the wood ranking DataFrame. What issue do you notice? Update your function with two additional arguments to alleviate the problem, and retest your function."
   ]
  },
  {
   "cell_type": "code",
   "execution_count": 4,
   "metadata": {},
   "outputs": [
    {
     "data": {
      "image/png": "[encoded data removed]",
      "text/plain": [
       "<Figure size 640x480 with 1 Axes>"
      ]
     },
     "metadata": {},
     "output_type": "display_data"
    },
    {
     "data": {
      "text/plain": [
       "<Figure size 640x480 with 0 Axes>"
      ]
     },
     "metadata": {},
     "output_type": "display_data"
    }
   ],
   "source": [
    "# 2\n",
    "# Create a function to plot rankings over time for 1 roller coaster\n",
    "def roller_coaster_ranking_plot(coaster_name, park_name, award_df):\n",
    "    # Creates a DataFrame which returns the rows where both Boolean Series are evaluated\n",
    "    roller_coaster_rankings = award_df[(award_df['Name'] == coaster_name) & (award_df['Park'] == park_name)]\n",
    "    \n",
    "    fig, ax = plt.subplots()\n",
    "    \n",
    "    ax.plot(roller_coaster_rankings['Year of Rank'].values, roller_coaster_rankings['Rank'],\n",
    "           roller_coaster_rankings['Year of Rank'].values, roller_coaster_rankings['Rank'])\n",
    "    \n",
    "    ax.set_xticks(roller_coaster_rankings['Year of Rank'].values)\n",
    "    ax.set_yticks(roller_coaster_rankings['Rank'])\n",
    "    ax.invert_yaxis()\n",
    "    plt.title(\"{} Rankings\".format(coaster_name))\n",
    "    plt.xlabel(\"Year\")\n",
    "    plt.ylabel(\"Ranking\")\n",
    "    plt.show()\n",
    "\n",
    "# Create a plot of El Toro ranking over time\n",
    "roller_coaster_ranking_plot(\"El Toro\", \"Six Flags Great Adventure\", wood_award)\n",
    "plt.clf()"
   ]
  },
  {
   "cell_type": "code",
   "execution_count": 7,
   "metadata": {},
   "outputs": [
    {
     "ename": "TypeError",
     "evalue": "roller_coaster_ranking_plot() takes 3 positional arguments but 5 were given",
     "output_type": "error",
     "traceback": [
      "\u001b[1;31m---------------------------------------------------------------------------\u001b[0m",
      "\u001b[1;31mTypeError\u001b[0m                                 Traceback (most recent call last)",
      "Cell \u001b[1;32mIn[7], line 21\u001b[0m\n\u001b[0;32m     18\u001b[0m     plt\u001b[38;5;241m.\u001b[39mshow()\n\u001b[0;32m     20\u001b[0m \u001b[38;5;66;03m# Create a plot of El Toro and Boulder Dash roller coasters\u001b[39;00m\n\u001b[1;32m---> 21\u001b[0m roller_coaster_ranking_plot(\u001b[38;5;124m\"\u001b[39m\u001b[38;5;124mEl Toro\u001b[39m\u001b[38;5;124m\"\u001b[39m, \u001b[38;5;124m\"\u001b[39m\u001b[38;5;124mSix Flags Great Adventure\u001b[39m\u001b[38;5;124m\"\u001b[39m,\u001b[38;5;124m\"\u001b[39m\u001b[38;5;124mBoulder Dash\u001b[39m\u001b[38;5;124m\"\u001b[39m, \u001b[38;5;124m\"\u001b[39m\u001b[38;5;124mLake Compounce\u001b[39m\u001b[38;5;124m\"\u001b[39m, wood_award)\n\u001b[0;32m     22\u001b[0m plt\u001b[38;5;241m.\u001b[39mclf()\n",
      "\u001b[1;31mTypeError\u001b[0m: roller_coaster_ranking_plot() takes 3 positional arguments but 5 were given"
     ]
    }
   ],
   "source": [
    "# 3\n",
    "# Create a function to plot rankings over time for 2 roller coasters\n",
    "def roller_coaster_ranking_plot(coaster_name, park_name, award_df):\n",
    "    # Creates two DataFrames which returns the rows where both Boolean Series are evaluated\n",
    "    roller_coaster_rankings = award_df[(award_df['Name'] == coaster_name) & (award_df['Park'] == park_name)]\n",
    "    \n",
    "    fig, ax = plt.subplots()\n",
    "    \n",
    "    ax.plot(roller_coaster_rankings['Year of Rank'].values, roller_coaster_rankings['Rank'],\n",
    "           roller_coaster_rankings['Year of Rank'].values, roller_coaster_rankings['Rank'])\n",
    "    \n",
    "    ax.set_xticks(roller_coaster_rankings['Year of Rank'].values)\n",
    "    ax.set_yticks(roller_coaster_rankings['Rank'])\n",
    "    ax.invert_yaxis()\n",
    "    plt.title(\"{} Rankings\".format(coaster_name))\n",
    "    plt.xlabel(\"Year\")\n",
    "    plt.ylabel(\"Ranking\")\n",
    "    plt.show()\n",
    "\n",
    "# Create a plot of El Toro and Boulder Dash roller coasters\n",
    "roller_coaster_ranking_plot(\"El Toro\", \"Six Flags Great Adventure\",\"Boulder Dash\", \"Lake Compounce\", wood_award)\n",
    "plt.clf()"
   ]
  },
  {
   "cell_type": "markdown",
   "metadata": {},
   "source": [
    "4. Write a function that will plot the ranking of the top `n` ranked roller coasters over time as lines. Your function should take a number `n` and a ranking DataFrame as arguments. Make sure to include informative labels that describe your visualization.\n",
    "\n",
    "   For example, if `n == 5`, your function should plot a line for each roller coaster that has a rank of `5` or lower.\n",
    "   \n",
    "   Call your function with a value of `n` and either the wood ranking or steel ranking DataFrame."
   ]
  },
  {
   "cell_type": "code",
   "execution_count": 4,
   "metadata": {},
   "outputs": [],
   "source": [
    "# 4\n",
    "# Create a function to plot top n rankings over time\n",
    "\n",
    "# Create a plot of top n rankings over time\n"
   ]
  },
  {
   "cell_type": "markdown",
   "metadata": {},
   "source": [
    "5. Now that you've visualized rankings over time, let's dive into the actual statistics of roller coasters themselves. [Captain Coaster](https://captaincoaster.com/en/) is a popular site for recording roller coaster information. Data on all roller coasters documented on Captain Coaster has been accessed through its API and stored in `roller_coasters.csv`. Load the data from the csv into a DataFrame and inspect it to gain familiarity with the data."
   ]
  },
  {
   "cell_type": "code",
   "execution_count": 5,
   "metadata": {},
   "outputs": [],
   "source": [
    "# 5\n",
    "# load roller coaster data\n"
   ]
  },
  {
   "cell_type": "markdown",
   "metadata": {},
   "source": [
    "6. Write a function that plots a histogram of any numeric column of the roller coaster DataFrame. Your function should take a DataFrame and a column name for which a histogram should be constructed as arguments. Make sure to include informative labels that describe your visualization.\n",
    "\n",
    "   Call your function with the roller coaster DataFrame and one of the column names."
   ]
  },
  {
   "cell_type": "code",
   "execution_count": 6,
   "metadata": {},
   "outputs": [],
   "source": [
    "# 6\n",
    "# Create a function to plot histogram of column values\n",
    "\n",
    "# Create histogram of roller coaster speed\n",
    "\n",
    "# Create histogram of roller coaster length\n",
    "\n",
    "# Create histogram of roller coaster number of inversions\n",
    "\n",
    "# Create a function to plot histogram of height values\n",
    "\n",
    "# Create a histogram of roller coaster height\n"
   ]
  },
  {
   "cell_type": "markdown",
   "metadata": {},
   "source": [
    "7. Write a function that creates a bar chart showing the number of inversions for each roller coaster at an amusement park. Your function should take the roller coaster DataFrame and an amusement park name as arguments. Make sure to include informative labels that describe your visualization.\n",
    "\n",
    "   Call your function with the roller coaster DataFrame and amusement park name."
   ]
  },
  {
   "cell_type": "code",
   "execution_count": 7,
   "metadata": {},
   "outputs": [],
   "source": [
    "# 7\n",
    "# Create a function to plot inversions by coaster at park\n",
    "\n",
    "# Create barplot of inversions by roller coasters\n"
   ]
  },
  {
   "cell_type": "markdown",
   "metadata": {},
   "source": [
    "8. Write a function that creates a pie chart that compares the number of operating roller coasters (`'status.operating'`) to the number of closed roller coasters (`'status.closed.definitely'`). Your function should take the roller coaster DataFrame as an argument. Make sure to include informative labels that describe your visualization.\n",
    "\n",
    "   Call your function with the roller coaster DataFrame."
   ]
  },
  {
   "cell_type": "code",
   "execution_count": 8,
   "metadata": {},
   "outputs": [],
   "source": [
    "# 8\n",
    "# Create a function to plot a pie chart of status.operating\n",
    "\n",
    "# Create pie chart of roller coasters\n"
   ]
  },
  {
   "cell_type": "markdown",
   "metadata": {},
   "source": [
    "9. `.scatter()` is another useful function in matplotlib that you might not have seen before. `.scatter()` produces a scatter plot, which is similar to `.plot()` in that it plots points on a figure. `.scatter()`, however, does not connect the points with a line. This allows you to analyze the relationship between two variables. Find [`.scatter()`'s documentation here](https://matplotlib.org/stable/api/_as_gen/matplotlib.pyplot.scatter.html).\n",
    "\n",
    "   Write a function that creates a scatter plot of two numeric columns of the roller coaster DataFrame. Your function should take the roller coaster DataFrame and two-column names as arguments. Make sure to include informative labels that describe your visualization.\n",
    "   \n",
    "   Call your function with the roller coaster DataFrame and two-column names."
   ]
  },
  {
   "cell_type": "code",
   "execution_count": 9,
   "metadata": {},
   "outputs": [],
   "source": [
    "# 9\n",
    "# Create a function to plot scatter of any two columns\n",
    "\n",
    "# Create a function to plot scatter of speed vs height\n",
    "\n",
    "# Create a scatter plot of roller coaster height by speed\n"
   ]
  },
  {
   "cell_type": "markdown",
   "metadata": {},
   "source": [
    "10. Part of the fun of data analysis and visualization is digging into the data you have and answering questions that come to your mind.\n",
    "\n",
    "    Some questions you might want to answer with the datasets provided include:\n",
    "    - What roller coaster seating type is most popular? And do different seating types result in higher/faster/longer roller coasters?\n",
    "    - Do roller coaster manufactures have any specialties (do they focus on speed, height, seating type, or inversions)?\n",
    "    - Do amusement parks have any specialties?\n",
    "    \n",
    "    What visualizations can you create that answer these questions, and any others that come to you? Share the questions you ask and the accompanying visualizations you create on the Codecademy forums."
   ]
  },
  {
   "cell_type": "code",
   "execution_count": null,
   "metadata": {},
   "outputs": [],
   "source": []
  }
 ],
 "metadata": {
  "kernelspec": {
   "display_name": "Python 3 (ipykernel)",
   "language": "python",
   "name": "python3"
  },
  "language_info": {
   "codemirror_mode": {
    "name": "ipython",
    "version": 3
   },
   "file_extension": ".py",
   "mimetype": "text/x-python",
   "name": "python",
   "nbconvert_exporter": "python",
   "pygments_lexer": "ipython3",
   "version": "3.11.5"
  }
 },
 "nbformat": 4,
 "nbformat_minor": 2
}
